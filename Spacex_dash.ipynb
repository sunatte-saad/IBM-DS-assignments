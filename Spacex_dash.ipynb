{
 "cells": [
  {
   "cell_type": "code",
   "execution_count": 5,
   "metadata": {},
   "outputs": [
    {
     "name": "stdout",
     "output_type": "stream",
     "text": [
      "Requirement already satisfied: pandas in c:\\users\\heba\\anaconda3\\lib\\site-packages (1.3.4)\n",
      "Requirement already satisfied: dash in c:\\users\\heba\\anaconda3\\lib\\site-packages (2.9.1)\n",
      "Requirement already satisfied: numpy>=1.17.3 in c:\\users\\heba\\anaconda3\\lib\\site-packages (from pandas) (1.21.5)\n",
      "Requirement already satisfied: python-dateutil>=2.7.3 in c:\\users\\heba\\anaconda3\\lib\\site-packages (from pandas) (2.8.2)\n",
      "Requirement already satisfied: pytz>=2017.3 in c:\\users\\heba\\anaconda3\\lib\\site-packages (from pandas) (2022.1)\n",
      "Requirement already satisfied: Flask>=1.0.4 in c:\\users\\heba\\anaconda3\\lib\\site-packages (from dash) (1.1.2)\n",
      "Requirement already satisfied: dash-html-components==2.0.0 in c:\\users\\heba\\anaconda3\\lib\\site-packages (from dash) (2.0.0)\n",
      "Requirement already satisfied: dash-core-components==2.0.0 in c:\\users\\heba\\anaconda3\\lib\\site-packages (from dash) (2.0.0)\n",
      "Requirement already satisfied: dash-table==5.0.0 in c:\\users\\heba\\anaconda3\\lib\\site-packages (from dash) (5.0.0)\n",
      "Requirement already satisfied: plotly>=5.0.0 in c:\\users\\heba\\anaconda3\\lib\\site-packages (from dash) (5.9.0)\n",
      "Requirement already satisfied: Jinja2>=2.10.1 in c:\\users\\heba\\anaconda3\\lib\\site-packages (from Flask>=1.0.4->dash) (3.1.2)\n",
      "Requirement already satisfied: Werkzeug>=0.15 in c:\\users\\heba\\anaconda3\\lib\\site-packages (from Flask>=1.0.4->dash) (2.0.3)\n",
      "Requirement already satisfied: click>=5.1 in c:\\users\\heba\\anaconda3\\lib\\site-packages (from Flask>=1.0.4->dash) (8.0.4)\n",
      "Requirement already satisfied: itsdangerous>=0.24 in c:\\users\\heba\\anaconda3\\lib\\site-packages (from Flask>=1.0.4->dash) (2.0.1)\n",
      "Requirement already satisfied: tenacity>=6.2.0 in c:\\users\\heba\\anaconda3\\lib\\site-packages (from plotly>=5.0.0->dash) (8.0.1)\n",
      "Requirement already satisfied: six>=1.5 in c:\\users\\heba\\anaconda3\\lib\\site-packages (from python-dateutil>=2.7.3->pandas) (1.16.0)\n",
      "Requirement already satisfied: colorama in c:\\users\\heba\\anaconda3\\lib\\site-packages (from click>=5.1->Flask>=1.0.4->dash) (0.4.5)\n",
      "Requirement already satisfied: MarkupSafe>=2.0 in c:\\users\\heba\\anaconda3\\lib\\site-packages (from Jinja2>=2.10.1->Flask>=1.0.4->dash) (2.0.1)\n"
     ]
    }
   ],
   "source": [
    "!pip install pandas dash"
   ]
  },
  {
   "cell_type": "code",
   "execution_count": 12,
   "metadata": {},
   "outputs": [
    {
     "name": "stdout",
     "output_type": "stream",
     "text": [
      "Requirement already satisfied: Flask in c:\\users\\heba\\anaconda3\\lib\\site-packages (1.1.2)\n",
      "Collecting Flask\n",
      "  Downloading Flask-2.2.3-py3-none-any.whl (101 kB)\n",
      "     ------------------------------------ 101.8/101.8 kB 532.6 kB/s eta 0:00:00\n",
      "Collecting Jinja2>=3.0\n",
      "  Downloading Jinja2-3.1.2-py3-none-any.whl (133 kB)\n",
      "     ------------------------------------ 133.1/133.1 kB 657.0 kB/s eta 0:00:00\n",
      "Requirement already satisfied: itsdangerous>=2.0 in c:\\users\\heba\\anaconda3\\lib\\site-packages (from Flask) (2.0.1)\n",
      "Requirement already satisfied: importlib-metadata>=3.6.0 in c:\\users\\heba\\anaconda3\\lib\\site-packages (from Flask) (4.11.3)\n",
      "Requirement already satisfied: click>=8.0 in c:\\users\\heba\\anaconda3\\lib\\site-packages (from Flask) (8.0.4)\n",
      "Collecting Werkzeug>=2.2.2\n",
      "  Downloading Werkzeug-2.2.3-py3-none-any.whl (233 kB)\n",
      "     -------------------------------------- 233.6/233.6 kB 1.3 MB/s eta 0:00:00\n",
      "Requirement already satisfied: colorama in c:\\users\\heba\\anaconda3\\lib\\site-packages (from click>=8.0->Flask) (0.4.5)\n",
      "Requirement already satisfied: zipp>=0.5 in c:\\users\\heba\\anaconda3\\lib\\site-packages (from importlib-metadata>=3.6.0->Flask) (3.8.0)\n",
      "Requirement already satisfied: MarkupSafe>=2.0 in c:\\users\\heba\\anaconda3\\lib\\site-packages (from Jinja2>=3.0->Flask) (2.0.1)\n",
      "Collecting MarkupSafe>=2.0\n",
      "  Downloading MarkupSafe-2.1.2-cp39-cp39-win_amd64.whl (16 kB)\n",
      "Installing collected packages: MarkupSafe, Werkzeug, Jinja2, Flask\n",
      "  Attempting uninstall: MarkupSafe\n",
      "    Found existing installation: MarkupSafe 2.0.1\n",
      "    Uninstalling MarkupSafe-2.0.1:\n",
      "      Successfully uninstalled MarkupSafe-2.0.1\n",
      "Note: you may need to restart the kernel to use updated packages.\n"
     ]
    },
    {
     "name": "stderr",
     "output_type": "stream",
     "text": [
      "ERROR: Could not install packages due to an OSError: [WinError 5] Access is denied: 'C:\\\\Users\\\\Heba\\\\anaconda3\\\\Lib\\\\site-packages\\\\~arkupsafe\\\\_speedups.cp39-win_amd64.pyd'\n",
      "Consider using the `--user` option or check the permissions.\n",
      "\n"
     ]
    }
   ],
   "source": [
    "pip install --upgrade Flask\n"
   ]
  },
  {
   "cell_type": "code",
   "execution_count": 20,
   "metadata": {},
   "outputs": [
    {
     "name": "stdout",
     "output_type": "stream",
     "text": [
      "Requirement already satisfied: Jinja2==2.11.3 in c:\\users\\heba\\anaconda3\\lib\\site-packages (2.11.3)\n",
      "Requirement already satisfied: MarkupSafe>=0.23 in c:\\users\\heba\\anaconda3\\lib\\site-packages (from Jinja2==2.11.3) (2.1.2)\n",
      "Note: you may need to restart the kernel to use updated packages.\n"
     ]
    }
   ],
   "source": [
    "pip install Jinja2==2.11.3\n"
   ]
  },
  {
   "cell_type": "code",
   "execution_count": 16,
   "metadata": {},
   "outputs": [],
   "source": [
    "import wget\n",
    "import pandas as pd\n",
    "spacex_launch_csv=wget.download('https://cf-courses-data.s3.us.cloud-object-storage.appdomain.cloud/IBM-DS0321EN-SkillsNetwork/datasets/spacex_launch_dash.csv')\n",
    "spacex_df=pd.read_csv(spacex_launch_csv)"
   ]
  },
  {
   "cell_type": "code",
   "execution_count": 17,
   "metadata": {},
   "outputs": [],
   "source": [
    "dash_skeleton=wget.download(\"https://cf-courses-data.s3.us.cloud-object-storage.appdomain.cloud/IBM-DS0321EN-SkillsNetwork/labs/module_3/spacex_dash_app.py\")\n"
   ]
  },
  {
   "cell_type": "code",
   "execution_count": 11,
   "metadata": {},
   "outputs": [
    {
     "data": {
      "text/plain": [
       "'spacex_dash_app (1).py'"
      ]
     },
     "execution_count": 11,
     "metadata": {},
     "output_type": "execute_result"
    }
   ],
   "source": [
    "dash_skeleton"
   ]
  },
  {
   "cell_type": "code",
   "execution_count": 13,
   "metadata": {},
   "outputs": [
    {
     "name": "stdout",
     "output_type": "stream",
     "text": [
      "Current working directory: c:\\Users\\Heba\\AppData\\Local\\Programs\\Microsoft VS Code\n",
      "Files in the current working directory: ['bin', 'chrome_100_percent.pak', 'chrome_200_percent.pak', 'Code.exe', 'Code.VisualElementsManifest.xml', 'd3dcompiler_47.dll', 'debug.log', 'ffmpeg.dll', 'First file.mp3', 'icudtl.dat', 'libEGL.dll', 'libGLESv2.dll', 'locales', 'policies', 'resources', 'resources.pak', 'snapshot_blob.bin', 'spacex_dash_app (1).py', 'spacex_dash_app.py', 'spacex_launch_dash (1).csv', 'spacex_launch_dash.csv', 'tools', 'unins000.dat', 'unins000.exe', 'unins000.msg', 'v8_context_snapshot.bin', 'vk_swiftshader.dll', 'vk_swiftshader_icd.json', 'vulkan-1.dll']\n"
     ]
    }
   ],
   "source": [
    "import os\n",
    "\n",
    "# Get the current working directory\n",
    "cwd = os.getcwd()\n",
    "print(f'Current working directory: {cwd}')\n",
    "\n",
    "# List the files in the current working directory\n",
    "files = os.listdir(cwd)\n",
    "print(f'Files in the current working directory: {files}')"
   ]
  },
  {
   "cell_type": "code",
   "execution_count": 26,
   "metadata": {},
   "outputs": [
    {
     "name": "stdout",
     "output_type": "stream",
     "text": [
      "Requirement already satisfied: babel in c:\\users\\heba\\anaconda3\\lib\\site-packages (2.9.1)\n",
      "Collecting babel\n",
      "  Downloading Babel-2.12.1-py3-none-any.whl (10.1 MB)\n",
      "     ---------------------------------------- 10.1/10.1 MB 1.3 MB/s eta 0:00:00\n",
      "Installing collected packages: babel\n",
      "  Attempting uninstall: babel\n",
      "    Found existing installation: Babel 2.9.1\n",
      "    Uninstalling Babel-2.9.1:\n",
      "      Successfully uninstalled Babel-2.9.1\n",
      "Successfully installed babel-2.12.1\n",
      "Requirement already satisfied: python-dateutil in c:\\users\\heba\\anaconda3\\lib\\site-packages (2.8.2)\n",
      "Requirement already satisfied: six>=1.5 in c:\\users\\heba\\anaconda3\\lib\\site-packages (from python-dateutil) (1.16.0)\n",
      "Collecting flask-moment\n",
      "  Downloading Flask_Moment-1.0.5-py3-none-any.whl (6.1 kB)\n",
      "Requirement already satisfied: packaging>=14.1 in c:\\users\\heba\\anaconda3\\lib\\site-packages (from flask-moment) (21.3)\n",
      "Requirement already satisfied: Flask in c:\\users\\heba\\anaconda3\\lib\\site-packages (from flask-moment) (1.1.2)\n",
      "Requirement already satisfied: pyparsing!=3.0.5,>=2.0.2 in c:\\users\\heba\\anaconda3\\lib\\site-packages (from packaging>=14.1->flask-moment) (3.0.9)\n",
      "Requirement already satisfied: Werkzeug>=0.15 in c:\\users\\heba\\anaconda3\\lib\\site-packages (from Flask->flask-moment) (2.0.3)\n",
      "Requirement already satisfied: Jinja2>=2.10.1 in c:\\users\\heba\\anaconda3\\lib\\site-packages (from Flask->flask-moment) (2.11.3)\n",
      "Requirement already satisfied: click>=5.1 in c:\\users\\heba\\anaconda3\\lib\\site-packages (from Flask->flask-moment) (8.0.4)\n",
      "Requirement already satisfied: itsdangerous>=0.24 in c:\\users\\heba\\anaconda3\\lib\\site-packages (from Flask->flask-moment) (2.0.1)\n",
      "Requirement already satisfied: colorama in c:\\users\\heba\\anaconda3\\lib\\site-packages (from click>=5.1->Flask->flask-moment) (0.4.5)\n",
      "Requirement already satisfied: MarkupSafe>=0.23 in c:\\users\\heba\\anaconda3\\lib\\site-packages (from Jinja2>=2.10.1->Flask->flask-moment) (2.1.2)\n",
      "Installing collected packages: flask-moment\n",
      "Successfully installed flask-moment-1.0.5\n",
      "Collecting flask-wtf\n",
      "  Downloading Flask_WTF-1.1.1-py3-none-any.whl (12 kB)\n",
      "Requirement already satisfied: Flask in c:\\users\\heba\\anaconda3\\lib\\site-packages (from flask-wtf) (1.1.2)\n",
      "Requirement already satisfied: itsdangerous in c:\\users\\heba\\anaconda3\\lib\\site-packages (from flask-wtf) (2.0.1)\n",
      "Collecting WTForms\n",
      "  Downloading WTForms-3.0.1-py3-none-any.whl (136 kB)\n",
      "     ------------------------------------- 136.5/136.5 kB 79.2 kB/s eta 0:00:00\n",
      "Requirement already satisfied: Jinja2>=2.10.1 in c:\\users\\heba\\anaconda3\\lib\\site-packages (from Flask->flask-wtf) (2.11.3)\n",
      "Requirement already satisfied: click>=5.1 in c:\\users\\heba\\anaconda3\\lib\\site-packages (from Flask->flask-wtf) (8.0.4)\n",
      "Requirement already satisfied: Werkzeug>=0.15 in c:\\users\\heba\\anaconda3\\lib\\site-packages (from Flask->flask-wtf) (2.0.3)\n",
      "Requirement already satisfied: MarkupSafe in c:\\users\\heba\\anaconda3\\lib\\site-packages (from WTForms->flask-wtf) (2.1.2)\n",
      "Requirement already satisfied: colorama in c:\\users\\heba\\anaconda3\\lib\\site-packages (from click>=5.1->Flask->flask-wtf) (0.4.5)\n",
      "Installing collected packages: WTForms, flask-wtf\n",
      "Successfully installed WTForms-3.0.1 flask-wtf-1.1.1\n",
      "Collecting flask_sqlalchemy\n",
      "  Downloading Flask_SQLAlchemy-3.0.3-py3-none-any.whl (24 kB)\n",
      "Collecting Flask>=2.2\n",
      "  Using cached Flask-2.2.3-py3-none-any.whl (101 kB)\n",
      "Collecting SQLAlchemy>=1.4.18\n",
      "  Using cached SQLAlchemy-2.0.9-cp39-cp39-win_amd64.whl (2.0 MB)\n",
      "Requirement already satisfied: click>=8.0 in c:\\users\\heba\\anaconda3\\lib\\site-packages (from Flask>=2.2->flask_sqlalchemy) (8.0.4)\n",
      "Requirement already satisfied: itsdangerous>=2.0 in c:\\users\\heba\\anaconda3\\lib\\site-packages (from Flask>=2.2->flask_sqlalchemy) (2.0.1)\n",
      "Requirement already satisfied: importlib-metadata>=3.6.0 in c:\\users\\heba\\anaconda3\\lib\\site-packages (from Flask>=2.2->flask_sqlalchemy) (4.11.3)\n",
      "Collecting Jinja2>=3.0\n",
      "  Using cached Jinja2-3.1.2-py3-none-any.whl (133 kB)\n",
      "Collecting Werkzeug>=2.2.2\n",
      "  Using cached Werkzeug-2.2.3-py3-none-any.whl (233 kB)\n",
      "Requirement already satisfied: typing-extensions>=4.2.0 in c:\\users\\heba\\anaconda3\\lib\\site-packages (from SQLAlchemy>=1.4.18->flask_sqlalchemy) (4.5.0)\n",
      "Requirement already satisfied: greenlet!=0.4.17 in c:\\users\\heba\\anaconda3\\lib\\site-packages (from SQLAlchemy>=1.4.18->flask_sqlalchemy) (2.0.2)\n",
      "Requirement already satisfied: colorama in c:\\users\\heba\\anaconda3\\lib\\site-packages (from click>=8.0->Flask>=2.2->flask_sqlalchemy) (0.4.5)\n",
      "Requirement already satisfied: zipp>=0.5 in c:\\users\\heba\\anaconda3\\lib\\site-packages (from importlib-metadata>=3.6.0->Flask>=2.2->flask_sqlalchemy) (3.8.0)\n",
      "Requirement already satisfied: MarkupSafe>=2.0 in c:\\users\\heba\\anaconda3\\lib\\site-packages (from Jinja2>=3.0->Flask>=2.2->flask_sqlalchemy) (2.1.2)\n",
      "Installing collected packages: Werkzeug, SQLAlchemy, Jinja2, Flask, flask_sqlalchemy\n",
      "  Attempting uninstall: Werkzeug\n",
      "    Found existing installation: Werkzeug 2.0.3\n",
      "    Uninstalling Werkzeug-2.0.3:\n",
      "      Successfully uninstalled Werkzeug-2.0.3\n",
      "  Attempting uninstall: SQLAlchemy\n",
      "    Found existing installation: SQLAlchemy 1.3.24\n",
      "    Uninstalling SQLAlchemy-1.3.24:\n",
      "      Successfully uninstalled SQLAlchemy-1.3.24\n",
      "  Attempting uninstall: Jinja2\n",
      "    Found existing installation: Jinja2 2.11.3\n",
      "    Uninstalling Jinja2-2.11.3:\n",
      "      Successfully uninstalled Jinja2-2.11.3\n",
      "  Attempting uninstall: Flask\n",
      "    Found existing installation: Flask 1.1.2\n",
      "    Uninstalling Flask-1.1.2:\n",
      "      Successfully uninstalled Flask-1.1.2\n",
      "Successfully installed Flask-2.2.3 Jinja2-3.1.2 SQLAlchemy-2.0.9 Werkzeug-2.2.3 flask_sqlalchemy-3.0.3\n"
     ]
    },
    {
     "name": "stderr",
     "output_type": "stream",
     "text": [
      "ERROR: pip's dependency resolver does not currently take into account all the packages that are installed. This behaviour is the source of the following dependency conflicts.\n",
      "anaconda-project 0.11.1 requires ruamel-yaml, which is not installed.\n"
     ]
    }
   ],
   "source": [
    "!pip install --upgrade babel\n",
    "!pip install --upgrade python-dateutil\n",
    "!pip install --upgrade flask-moment\n",
    "!pip install --upgrade flask-wtf\n",
    "!pip install --upgrade flask_sqlalchemy"
   ]
  },
  {
   "cell_type": "code",
   "execution_count": 27,
   "metadata": {},
   "outputs": [
    {
     "name": "stderr",
     "output_type": "stream",
     "text": [
      "C:\\Users\\Heba\\AppData\\Local\\Temp\\ipykernel_4840\\767060517.py:4: UserWarning: \n",
      "The dash_html_components package is deprecated. Please replace\n",
      "`import dash_html_components as html` with `from dash import html`\n",
      "  import dash_html_components as html\n",
      "C:\\Users\\Heba\\AppData\\Local\\Temp\\ipykernel_4840\\767060517.py:5: UserWarning: \n",
      "The dash_core_components package is deprecated. Please replace\n",
      "`import dash_core_components as dcc` with `from dash import dcc`\n",
      "  import dash_core_components as dcc\n"
     ]
    },
    {
     "name": "stdout",
     "output_type": "stream",
     "text": [
      "Dash is running on http://127.0.0.1:8050/\n",
      "\n",
      " * Serving Flask app '__main__'\n",
      " * Debug mode: off\n"
     ]
    },
    {
     "name": "stderr",
     "output_type": "stream",
     "text": [
      "WARNING: This is a development server. Do not use it in a production deployment. Use a production WSGI server instead.\n",
      " * Running on http://127.0.0.1:8050\n",
      "Press CTRL+C to quit\n",
      "127.0.0.1 - - [12/Apr/2023 04:35:59] \"GET / HTTP/1.1\" 200 -\n",
      "127.0.0.1 - - [12/Apr/2023 04:36:02] \"GET /_dash-component-suites/dash/deps/react@16.v2_9_1m1679105945.14.0.min.js HTTP/1.1\" 200 -\n",
      "127.0.0.1 - - [12/Apr/2023 04:36:02] \"GET /_dash-component-suites/dash/deps/react-dom@16.v2_9_1m1679105945.14.0.min.js HTTP/1.1\" 200 -\n",
      "127.0.0.1 - - [12/Apr/2023 04:36:02] \"GET /_dash-component-suites/dash/deps/polyfill@7.v2_9_1m1679105945.12.1.min.js HTTP/1.1\" 200 -\n",
      "127.0.0.1 - - [12/Apr/2023 04:36:02] \"GET /_dash-component-suites/dash/deps/prop-types@15.v2_9_1m1679105945.8.1.min.js HTTP/1.1\" 200 -\n",
      "127.0.0.1 - - [12/Apr/2023 04:36:02] \"GET /_dash-component-suites/dash/dash-renderer/build/dash_renderer.v2_9_1m1679105945.min.js HTTP/1.1\" 200 -\n",
      "127.0.0.1 - - [12/Apr/2023 04:36:02] \"GET /_dash-component-suites/dash/dcc/dash_core_components.v2_9_0m1679105945.js HTTP/1.1\" 200 -\n",
      "127.0.0.1 - - [12/Apr/2023 04:36:02] \"GET /_dash-component-suites/dash/dcc/dash_core_components-shared.v2_9_0m1679105945.js HTTP/1.1\" 200 -\n",
      "127.0.0.1 - - [12/Apr/2023 04:36:02] \"GET /_dash-component-suites/dash/html/dash_html_components.v2_0_9m1679105946.min.js HTTP/1.1\" 200 -\n",
      "127.0.0.1 - - [12/Apr/2023 04:36:02] \"GET /_dash-component-suites/dash/dash_table/bundle.v5_2_3m1679105945.js HTTP/1.1\" 200 -\n",
      "127.0.0.1 - - [12/Apr/2023 04:36:03] \"GET /_dash-layout HTTP/1.1\" 200 -\n",
      "127.0.0.1 - - [12/Apr/2023 04:36:03] \"GET /_dash-dependencies HTTP/1.1\" 200 -\n",
      "127.0.0.1 - - [12/Apr/2023 04:36:03] \"GET /_favicon.ico?v=2.9.1 HTTP/1.1\" 200 -\n",
      "127.0.0.1 - - [12/Apr/2023 04:36:04] \"GET /_dash-component-suites/dash/dcc/async-graph.js HTTP/1.1\" 200 -\n",
      "127.0.0.1 - - [12/Apr/2023 04:36:04] \"GET /_dash-component-suites/dash/dcc/async-slider.js HTTP/1.1\" 200 -\n"
     ]
    },
    {
     "name": "stdout",
     "output_type": "stream",
     "text": [
      "All Sites\n",
      "[0, 9600]\n"
     ]
    },
    {
     "name": "stderr",
     "output_type": "stream",
     "text": [
      "127.0.0.1 - - [12/Apr/2023 04:36:04] \"GET /_dash-component-suites/dash/dcc/async-dropdown.js HTTP/1.1\" 200 -\n",
      "127.0.0.1 - - [12/Apr/2023 04:36:04] \"GET /_dash-component-suites/dash/dcc/async-plotlyjs.js HTTP/1.1\" 200 -\n",
      "127.0.0.1 - - [12/Apr/2023 04:37:44] \"POST /_dash-update-component HTTP/1.1\" 200 -\n",
      "127.0.0.1 - - [12/Apr/2023 04:37:45] \"POST /_dash-update-component HTTP/1.1\" 200 -\n",
      "C:\\Users\\Heba\\AppData\\Local\\Temp\\ipykernel_4840\\767060517.py:72: UserWarning:\n",
      "\n",
      "Boolean Series key will be reindexed to match DataFrame index.\n",
      "\n",
      "127.0.0.1 - - [12/Apr/2023 04:44:24] \"POST /_dash-update-component HTTP/1.1\" 200 -\n"
     ]
    },
    {
     "name": "stdout",
     "output_type": "stream",
     "text": [
      "All Sites\n",
      "[2500, 10000]\n",
      "CCAFS LC-40\n",
      "[2500, 10000]\n"
     ]
    },
    {
     "name": "stderr",
     "output_type": "stream",
     "text": [
      "C:\\Users\\Heba\\AppData\\Local\\Temp\\ipykernel_4840\\767060517.py:77: UserWarning:\n",
      "\n",
      "Boolean Series key will be reindexed to match DataFrame index.\n",
      "\n",
      "127.0.0.1 - - [12/Apr/2023 04:44:45] \"POST /_dash-update-component HTTP/1.1\" 200 -\n",
      "127.0.0.1 - - [12/Apr/2023 04:44:45] \"POST /_dash-update-component HTTP/1.1\" 200 -\n",
      "127.0.0.1 - - [12/Apr/2023 04:44:47] \"POST /_dash-update-component HTTP/1.1\" 200 -\n"
     ]
    },
    {
     "name": "stdout",
     "output_type": "stream",
     "text": [
      "CCAFS LC-40\n",
      "[0, 10000]\n"
     ]
    }
   ],
   "source": [
    "# Import required libraries\n",
    "import pandas as pd\n",
    "import dash\n",
    "import dash_html_components as html\n",
    "import dash_core_components as dcc\n",
    "from dash.dependencies import Input, Output, State\n",
    "import plotly.graph_objects as go\n",
    "import plotly.express as px\n",
    "from dash import no_update\n",
    "\n",
    "# Read the airline data into pandas dataframe\n",
    "max_payload = spacex_df['Payload Mass (kg)'].max()\n",
    "min_payload = spacex_df['Payload Mass (kg)'].min()\n",
    "\n",
    "# Create a dash application\n",
    "app = dash.Dash(__name__)\n",
    "\n",
    "# Create an app layout\n",
    "launch_sites = []\n",
    "launch_sites.append({'label': 'All Sites', 'value': 'All Sites'})\n",
    "for item in spacex_df[\"Launch Site\"].value_counts().index:\n",
    "    launch_sites.append({'label': item, 'value': item})\n",
    "app.layout = html.Div(children=[html.H1('SpaceX Launch Records Dashboard',\n",
    "                                        style={'textAlign': 'center', 'color': '#503D36',\n",
    "                                               'font-size': 40}),\n",
    "                                # TASK 1: Add a dropdown list to enable Launch Site selection\n",
    "                                # The default select value is for ALL sites\n",
    "                                dcc.Dropdown(id='site-dropdown', options = launch_sites, value = 'All Sites', placeholder = \"Select a Launch Site here\", searchable = True),\n",
    "                                html.Br(),\n",
    "\n",
    "                                # TASK 2: Add a pie chart to show the total successful launches count for all sites\n",
    "                                # If a specific launch site was selected, show the Success vs. Failed counts for the site\n",
    "                                html.Div(dcc.Graph(id='success-pie-chart')),\n",
    "                                html.Br(),\n",
    "\n",
    "                                html.P(\"Payload range (Kg):\"),\n",
    "                                # TASK 3: Add a slider to select payload range\n",
    "                                dcc.RangeSlider(id='payload-slider', min = 0, max = 10000, step = 1000, value = [min_payload, max_payload], marks={ 2500: {'label': '2500 (Kg)'}, 5000: {'label': '5000 (Kg)'}, 7500: {'label': '7500 (Kg)'}}),\n",
    "\n",
    "                                # TASK 4: Add a scatter chart to show the correlation between payload and launch success\n",
    "                                html.Div(dcc.Graph(id='success-payload-scatter-chart')),\n",
    "                                ])\n",
    "\n",
    "# TASK 2:\n",
    "# Add a callback function for `site-dropdown` as input, `success-pie-chart` as output\n",
    "@app.callback( Output(component_id='success-pie-chart', component_property='figure'),\n",
    "               Input(component_id='site-dropdown', component_property='value')\n",
    ")\n",
    "# Add computation to callback function and return graph\n",
    "def select(inputt):\n",
    "    if inputt == 'All Sites':\n",
    "        new_df = spacex_df.groupby(['Launch Site'])[\"class\"].sum().to_frame()\n",
    "        new_df = new_df.reset_index()\n",
    "        fig = px.pie(new_df, values='class', names='Launch Site', title='Total Success Launches by Site')\n",
    "    else:\n",
    "        new_df = spacex_df[spacex_df[\"Launch Site\"] == inputt][\"class\"].value_counts().to_frame()\n",
    "        new_df[\"name\"] = [\"Failure\", \"Success\"]\n",
    "        fig = px.pie(new_df, values='class', names='name', title='Total Success Launches for ' + inputt)\n",
    "    return fig\n",
    "\n",
    "# TASK 4:\n",
    "# Add a callback function for `site-dropdown` and `payload-slider` as inputs, `success-payload-scatter-chart` as output\n",
    "@app.callback( Output(component_id='success-payload-scatter-chart', component_property='figure'),\n",
    "               Input(component_id='site-dropdown', component_property='value'), Input(component_id='payload-slider', component_property='value') \n",
    ")\n",
    "def scatter(input1, input2):\n",
    "    print(input1)\n",
    "    print(input2)\n",
    "    if input1 == 'All Sites':\n",
    "        new_df = spacex_df\n",
    "        new_df2 = new_df[new_df[\"Payload Mass (kg)\"] >= input2[0]]\n",
    "        new_df3 = new_df2[new_df[\"Payload Mass (kg)\"] <= input2[1]]\n",
    "        fig2 = px.scatter(new_df3, y=\"class\", x=\"Payload Mass (kg)\", color=\"Booster Version Category\")\n",
    "    else:\n",
    "        new_df = spacex_df[spacex_df[\"Launch Site\"] == input1]\n",
    "        new_df2 = new_df[new_df[\"Payload Mass (kg)\"] >= input2[0]]\n",
    "        new_df3 = new_df2[new_df[\"Payload Mass (kg)\"] <= input2[1]]\n",
    "        #new_df2 = new_df[new_df[\"Payload Mass (kg)\"] >= input2[0] & new_df[\"Payload Mass (kg)\"] <= input2[1]]\n",
    "        fig2 = px.scatter(new_df3, y=\"class\", x=\"Payload Mass (kg)\", color=\"Booster Version Category\")\n",
    "    return fig2\n",
    "\n",
    "\n",
    "# Run the app\n",
    "if __name__ == '__main__':\n",
    "    app.run_server()"
   ]
  },
  {
   "cell_type": "code",
   "execution_count": null,
   "metadata": {},
   "outputs": [],
   "source": []
  }
 ],
 "metadata": {
  "kernelspec": {
   "display_name": "base",
   "language": "python",
   "name": "python3"
  },
  "language_info": {
   "codemirror_mode": {
    "name": "ipython",
    "version": 3
   },
   "file_extension": ".py",
   "mimetype": "text/x-python",
   "name": "python",
   "nbconvert_exporter": "python",
   "pygments_lexer": "ipython3",
   "version": "3.9.13"
  }
 },
 "nbformat": 4,
 "nbformat_minor": 2
}
